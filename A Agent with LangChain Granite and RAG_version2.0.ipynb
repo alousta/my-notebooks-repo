{
 "cells": [
  {
   "cell_type": "markdown",
   "metadata": {},
   "source": [
    "<p style=\"text-align:center\">\n",
    "    <a href=\"https://skills.network\" target=\"_blank\">\n",
    "    <img src=\"https://cf-courses-data.s3.us.cloud-object-storage.appdomain.cloud/assets/logos/SN_web_lightmode.png\" width=\"200\" alt=\"Skills Network Logo\"  />\n",
    "    </a>\n",
    "</p>\n"
   ]
  },
  {
   "cell_type": "markdown",
   "metadata": {},
   "source": [
    "# <a id='toc1_'></a>[Build a grounded Q/A Agent with LangChain, Granite 3 and RAG](#toc0_)\n"
   ]
  },
  {
   "cell_type": "markdown",
   "metadata": {},
   "source": [
    "Estimate time: **30** minutes\n"
   ]
  },
  {
   "cell_type": "markdown",
   "metadata": {},
   "source": [
    "This guided project demonstrates how to use LangChain to create a question and answer agent based on a large language model (LLM) and retrieval augmented generation (RAG) technology.\n"
   ]
  },
  {
   "cell_type": "markdown",
   "metadata": {},
   "source": [
    "**Table of contents**<a id='toc0_'></a>    \n",
    "- [Build a grounded Q/A Agent with LangChain, Granite and RAG](#toc1_)    \n",
    "  - [Introduction](#toc1_1_)    \n",
    "  - [What does this guided project do?](#toc1_2_)    \n",
    "  - [Objectives](#toc1_3_)    \n",
    "  - [Background](#toc1_4_)    \n",
    "    - [What is a large language model (LLM)](#toc1_4_1_)    \n",
    "    - [What is LangChain](#toc1_4_2_)    \n",
    "    - [What is watsonx Granite](#toc1_4_3_)    \n",
    "      - [Benefits of watsonx Granite](#toc1_4_3_1_)    \n",
    "    - [What is retrieval augmented generation (RAG)](#toc1_4_4_)    \n",
    "    - [What is a question-answering agent](#toc1_4_5_)    \n",
    "  - [Setup](#toc1_5_)    \n",
    "    - [Installing required libraries](#toc1_5_1_)    \n",
    "  - [Watsonx API credentials and project_id](#toc1_6_)    \n",
    "  - [Load document data and build knowledge base](#toc1_7_)    \n",
    "  - [Create an embedding model](#toc1_8_)    \n",
    "  - [Watsonx.ai Embedding with LangChain](#toc1_9_)    \n",
    "  - [Foundation models on watsonx.ai](#toc1_10_)    \n",
    "    - [Define the model](#toc1_10_1_)    \n",
    "    - [Define the model parameters](#toc1_10_2_)    \n",
    "    - [LangChain CustomLLM wrapper for watsonx model](#toc1_10_3_)    \n",
    "    - [Generate a retrieval augmented response to a question](#toc1_10_4_)    \n",
    "    - [Question-answering agent](#toc1_10_5_)    \n",
    "  - [Exercises](#toc1_11_)    \n",
    "    - [Exercise 1 - Change the query](#toc1_11_1_)    \n",
    "    - [Exercise 2 - Change the query](#toc1_11_2_)    \n",
    "  - [Authors](#toc1_12_)    \n",
    "  - [Contributors](#toc1_13_)    \n",
    "  - [Change Log](#toc1_14_)  \n"
   ]
  },
  {
   "cell_type": "markdown",
   "metadata": {},
   "source": [
    "## <a id='toc1_1_'></a>[Introduction](#toc0_)\n",
    "\n",
    "Imagine that you have a large collection of documents and you want to find the answer to a question. You could read through all of the documents to find the answer, but that would be a time-consuming process. Instead, you can use a question-answering agent to find the answer for you. This project explains how to use LangChain to build a question-answering agent that leverages a large language model (LLM) and retrieval augmented generation (RAG) technology to find the answer to a question.\n"
   ]
  },
  {
   "cell_type": "markdown",
   "metadata": {},
   "source": [
    "## <a id='toc1_2_'></a>[What does this guided project do?](#toc0_)\n",
    "\n",
    "Leveraging the IBM watsonx Granite Generation 3 LLM and LangChain, you learn to set up and configure these tools to create a highly accurate RAG pipeline. This hands-on project is perfect for data scientists, AI enthusiasts, and developers who want to acquire practical AI skills that can be applied in real-world scenarios. In just 30 minutes, you gain valuable experience that will enhance your portfolio and open up new possibilities in the field of artificial intelligence.\n"
   ]
  },
  {
   "cell_type": "markdown",
   "metadata": {},
   "source": [
    "## <a id='toc1_3_'></a>[Objectives](#toc0_)\n",
    "\n",
    "After completing this lab you will be able to:\n",
    "\n",
    "- Understand how to use the IBM watsonx Granite LLM and its applications in AI-driven solutions.\n",
    "- Develop the skills to create a RAG pipeline.\n",
    "- Gain practical experience in developing a question-answering agent that can be used in various real-world applications.\n"
   ]
  },
  {
   "cell_type": "markdown",
   "metadata": {},
   "source": [
    "## <a id='toc1_4_'></a>[Background](#toc0_)\n",
    "\n",
    "### <a id='toc1_4_1_'></a>[What is a large language model (LLM)](#toc0_)\n",
    "\n",
    "[Large language models](https://www.ibm.com/topics/large-language-models?utm_source=skills_network&utm_content=in_lab_content_link&utm_id=Lab-Granite+with+LangChain%3A+An+LLM+and+RAG+to+Answer+Questions_v1_1720558829) are a type of artificial intelligence model that is trained on a large corpus of text data. LLMs are designed to generate human-like text responses to a wide range of questions. They are based on the Transformer architecture and are pretrained on a variety of language tasks to improve their performance.\n",
    "\n",
    "### <a id='toc1_4_2_'></a>[What is LangChain](#toc0_)\n",
    "\n",
    "[LangChain](https://www.ibm.com/topics/langchain?utm_source=skills_network&utm_content=in_lab_content_link&utm_id=Lab-Granite+with+LangChain%3A+An+LLM+and+RAG+to+Answer+Questions_v1_1720558829) is an open source orchestration framework for the development of applications using LLMs. Available in both Python- and JavaScript-based libraries, LangChain’s tools and APIs simplify the process of building LLM-driven applications like [chatbots](https://www.ibm.com/topics/chatbots?utm_source=skills_network&utm_content=in_lab_content_link&utm_id=Lab-Granite+with+LangChain%3A+An+LLM+and+RAG+to+Answer+Questions_v1_1720558829) and [virtual agents](https://www.ibm.com/topics/virtual-agent?utm_source=skills_network&utm_content=in_lab_content_link&utm_id=Lab-Granite+with+LangChain%3A+An+LLM+and+RAG+to+Answer+Questions_v1_1720558829). \n",
    "\n",
    "### <a id='toc1_4_3_'></a>[What is watsonx Granite](#toc0_)\n",
    "\n",
    "[Watsonx Granite](https://www.ibm.com/granite?utm_source=skills_network&utm_content=in_lab_content_link&utm_id=Lab-Granite+with+LangChain%3A+An+LLM+and+RAG+to+Answer+Questions_v1_1720558829) is a family of AI models that are built for business and engineered from scratch to help ensure trust and scalability in AI-driven applications.\n",
    "\n",
    "#### <a id='toc1_4_3_1_'></a>[Benefits of watsonx Granite](#toc0_)\n",
    "\n",
    "- **Open**: With a principled approach to data transparency, model alignment, and security red teaming, IBM has been delivering truly open source Granite models under an Apache 2.0 license to empower developers to bring trusted, safe generative AI into mission-critical applications and workflows. \n",
    "- **Performant**: IBM Granite models deliver best-in-class performance in coding, and above-par performance in targeted language tasks and use cases at lower latencies, with continuous, iterative improvements by using pioneering techniques from IBM Research and contributions from open source.\n",
    "- **Efficient**: With a fraction of the compute capacity, inferencing costs, and energy consumption demanded by general-purpose models, Granite models enable developers to experiment, build, and scale more generative AI applications while staying well within the budgetary limits of their departments.\n",
    "\n",
    "\n",
    "### <a id='toc1_4_4_'></a>[What is retrieval augmented generation (RAG)](#toc0_)\n",
    "\n",
    "LLMs can be inconsistent. Sometimes they correctly answer the questions, and other times they respond with random facts from their training data. If they occasionally sound like they have no idea what they’re saying, it’s because they don’t. LLMs know how words relate statistically, but not what they mean.\n",
    "\n",
    "[RAG](https://research.ibm.com/blog/retrieval-augmented-generation-RAG?utm_source=skills_network&utm_content=in_lab_content_link&utm_id=Lab-Granite+with+LangChain%3A+An+LLM+and+RAG+to+Answer+Questions_v1_1720558829) is an AI framework for improving the quality of LLM-generated responses by grounding the model on external sources of knowledge to supplement the LLM’s internal representation of information.\n",
    "\n",
    "### <a id='toc1_4_5_'></a>[What is a question-answering agent](#toc0_)\n",
    "\n",
    "A [question-answering agent](https://huggingface.co/tasks/question-answering) is a type of artificial intelligence system that is designed to generate responses to questions. It is typically based on an LLM that is trained on a variety of language tasks. Question-answering agents are used in a wide range of applications, including chatbots, search engines, and virtual assistants.\n"
   ]
  },
  {
   "cell_type": "markdown",
   "metadata": {},
   "source": [
    "## <a id='toc1_5_'></a>[Setup](#toc0_)\n",
    "\n",
    "For this lab, you use the following libraries:\n",
    "\n",
    "*   [`langchain`](https://pypi.org/project/langchain/) for integrating language models and retrieval models.\n",
    "*   [`ibm-watsonx-ai`](https://pypi.org/project/ibm-watsonx-ai/) for accessing the watsonx Granite language model.\n",
    "*   [`wget`](https://pypi.org/project/wget/) for downloading files from the internet.\n",
    "*   [`sentence-transformers`](https://pypi.org/project/sentence-transformers/) for computing dense vector representations for sentences, paragraphs, and images.\n",
    "*   [`chromadb`](https://pypi.org/project/chromadb/) for an open source embedding database.\n",
    "*   [`pydantic`](https://pypi.org/project/pydantic/) for data validation.\n",
    "*   [`sqlalchemy`](https://pypi.org/project/sqlalchemy/) for SQL toolkit and Object-Relational Mapping (ORM).\n"
   ]
  },
  {
   "cell_type": "markdown",
   "metadata": {},
   "source": [
    "### <a id='toc1_5_1_'></a>[Installing required libraries](#toc0_)\n",
    "\n",
    "The following required libraries are __not__ pre-installed in the Skills Network Labs environment. __You must run the following cell__ to install them. Please wait until it completes.\n",
    "\n",
    "This step could take **approximately 10 minutes**, so please be patient.\n",
    "\n",
    "**NOTE**: If you encounter any issues, please restart the kernel and run the cell again.  You can do that by clicking the **Restart the kernel** icon.\n",
    "\n",
    "<img src=\"https://cf-courses-data.s3.us.cloud-object-storage.appdomain.cloud/crvBKBOkg9aBzXZiwGEXbw/Restarting-the-Kernel.png\" width=\"50%\" alt=\"Restart kernel\">\n"
   ]
  },
  {
   "cell_type": "code",
   "execution_count": 3,
   "metadata": {},
   "outputs": [
    {
     "name": "stdout",
     "output_type": "stream",
     "text": [
      "Requirement already satisfied: langchain==0.2.6 in /home/jupyterlab/.local/lib/python3.11/site-packages (0.2.6)\n",
      "Requirement already satisfied: PyYAML>=5.3 in /opt/conda/lib/python3.11/site-packages (from langchain==0.2.6) (6.0.1)\n",
      "Requirement already satisfied: SQLAlchemy<3,>=1.4 in /opt/conda/lib/python3.11/site-packages (from langchain==0.2.6) (2.0.30)\n",
      "Requirement already satisfied: aiohttp<4.0.0,>=3.8.3 in /opt/conda/lib/python3.11/site-packages (from langchain==0.2.6) (3.11.7)\n",
      "Requirement already satisfied: langchain-core<0.3.0,>=0.2.10 in /home/jupyterlab/.local/lib/python3.11/site-packages (from langchain==0.2.6) (0.2.43)\n",
      "Requirement already satisfied: langchain-text-splitters<0.3.0,>=0.2.0 in /home/jupyterlab/.local/lib/python3.11/site-packages (from langchain==0.2.6) (0.2.4)\n",
      "Requirement already satisfied: langsmith<0.2.0,>=0.1.17 in /home/jupyterlab/.local/lib/python3.11/site-packages (from langchain==0.2.6) (0.1.147)\n",
      "Requirement already satisfied: numpy<2,>=1 in /opt/conda/lib/python3.11/site-packages (from langchain==0.2.6) (1.26.4)\n",
      "Requirement already satisfied: pydantic<3,>=1 in /home/jupyterlab/.local/lib/python3.11/site-packages (from langchain==0.2.6) (2.10.2)\n",
      "Requirement already satisfied: requests<3,>=2 in /opt/conda/lib/python3.11/site-packages (from langchain==0.2.6) (2.32.2)\n",
      "Requirement already satisfied: tenacity!=8.4.0,<9.0.0,>=8.1.0 in /home/jupyterlab/.local/lib/python3.11/site-packages (from langchain==0.2.6) (8.5.0)\n",
      "Requirement already satisfied: aiohappyeyeballs>=2.3.0 in /opt/conda/lib/python3.11/site-packages (from aiohttp<4.0.0,>=3.8.3->langchain==0.2.6) (2.4.3)\n",
      "Requirement already satisfied: aiosignal>=1.1.2 in /opt/conda/lib/python3.11/site-packages (from aiohttp<4.0.0,>=3.8.3->langchain==0.2.6) (1.3.1)\n",
      "Requirement already satisfied: attrs>=17.3.0 in /opt/conda/lib/python3.11/site-packages (from aiohttp<4.0.0,>=3.8.3->langchain==0.2.6) (23.2.0)\n",
      "Requirement already satisfied: frozenlist>=1.1.1 in /opt/conda/lib/python3.11/site-packages (from aiohttp<4.0.0,>=3.8.3->langchain==0.2.6) (1.5.0)\n",
      "Requirement already satisfied: multidict<7.0,>=4.5 in /opt/conda/lib/python3.11/site-packages (from aiohttp<4.0.0,>=3.8.3->langchain==0.2.6) (6.1.0)\n",
      "Requirement already satisfied: propcache>=0.2.0 in /opt/conda/lib/python3.11/site-packages (from aiohttp<4.0.0,>=3.8.3->langchain==0.2.6) (0.2.0)\n",
      "Requirement already satisfied: yarl<2.0,>=1.17.0 in /opt/conda/lib/python3.11/site-packages (from aiohttp<4.0.0,>=3.8.3->langchain==0.2.6) (1.18.0)\n",
      "Requirement already satisfied: jsonpatch<2.0,>=1.33 in /opt/conda/lib/python3.11/site-packages (from langchain-core<0.3.0,>=0.2.10->langchain==0.2.6) (1.33)\n",
      "Requirement already satisfied: packaging<25,>=23.2 in /opt/conda/lib/python3.11/site-packages (from langchain-core<0.3.0,>=0.2.10->langchain==0.2.6) (24.0)\n",
      "Requirement already satisfied: typing-extensions>=4.7 in /opt/conda/lib/python3.11/site-packages (from langchain-core<0.3.0,>=0.2.10->langchain==0.2.6) (4.12.2)\n",
      "Requirement already satisfied: httpx<1,>=0.23.0 in /opt/conda/lib/python3.11/site-packages (from langsmith<0.2.0,>=0.1.17->langchain==0.2.6) (0.27.0)\n",
      "Requirement already satisfied: orjson<4.0.0,>=3.9.14 in /home/jupyterlab/.local/lib/python3.11/site-packages (from langsmith<0.2.0,>=0.1.17->langchain==0.2.6) (3.10.12)\n",
      "Requirement already satisfied: requests-toolbelt<2.0.0,>=1.0.0 in /home/jupyterlab/.local/lib/python3.11/site-packages (from langsmith<0.2.0,>=0.1.17->langchain==0.2.6) (1.0.0)\n",
      "Requirement already satisfied: annotated-types>=0.6.0 in /opt/conda/lib/python3.11/site-packages (from pydantic<3,>=1->langchain==0.2.6) (0.7.0)\n",
      "Requirement already satisfied: pydantic-core==2.27.1 in /home/jupyterlab/.local/lib/python3.11/site-packages (from pydantic<3,>=1->langchain==0.2.6) (2.27.1)\n",
      "Requirement already satisfied: charset-normalizer<4,>=2 in /opt/conda/lib/python3.11/site-packages (from requests<3,>=2->langchain==0.2.6) (3.3.2)\n",
      "Requirement already satisfied: idna<4,>=2.5 in /opt/conda/lib/python3.11/site-packages (from requests<3,>=2->langchain==0.2.6) (3.7)\n",
      "Requirement already satisfied: urllib3<3,>=1.21.1 in /opt/conda/lib/python3.11/site-packages (from requests<3,>=2->langchain==0.2.6) (2.2.1)\n",
      "Requirement already satisfied: certifi>=2017.4.17 in /opt/conda/lib/python3.11/site-packages (from requests<3,>=2->langchain==0.2.6) (2024.8.30)\n",
      "Requirement already satisfied: greenlet!=0.4.17 in /opt/conda/lib/python3.11/site-packages (from SQLAlchemy<3,>=1.4->langchain==0.2.6) (3.0.3)\n",
      "Requirement already satisfied: anyio in /opt/conda/lib/python3.11/site-packages (from httpx<1,>=0.23.0->langsmith<0.2.0,>=0.1.17->langchain==0.2.6) (4.3.0)\n",
      "Requirement already satisfied: httpcore==1.* in /opt/conda/lib/python3.11/site-packages (from httpx<1,>=0.23.0->langsmith<0.2.0,>=0.1.17->langchain==0.2.6) (1.0.5)\n",
      "Requirement already satisfied: sniffio in /opt/conda/lib/python3.11/site-packages (from httpx<1,>=0.23.0->langsmith<0.2.0,>=0.1.17->langchain==0.2.6) (1.3.1)\n",
      "Requirement already satisfied: h11<0.15,>=0.13 in /opt/conda/lib/python3.11/site-packages (from httpcore==1.*->httpx<1,>=0.23.0->langsmith<0.2.0,>=0.1.17->langchain==0.2.6) (0.14.0)\n",
      "Requirement already satisfied: jsonpointer>=1.9 in /opt/conda/lib/python3.11/site-packages (from jsonpatch<2.0,>=1.33->langchain-core<0.3.0,>=0.2.10->langchain==0.2.6) (2.4)\n",
      "Requirement already satisfied: mypy-extensions>=0.3.0 in /opt/conda/lib/python3.11/site-packages (from typing-inspect<1,>=0.4.0->dataclasses-json<0.7,>=0.5.7->langchain-community==0.2.6) (1.0.0)\n",
      "Requirement already satisfied: six>=1.10.0 in /opt/conda/lib/python3.11/site-packages (from lomond->ibm-watsonx-ai==1.0.10) (1.16.0)\n",
      "Requirement already satisfied: h11<0.15,>=0.13 in /opt/conda/lib/python3.11/site-packages (from httpcore==1.*->httpx<1,>=0.23.0->langsmith<0.2.0,>=0.1.112->langchain-core<0.3,>=0.2.2->langchain_ibm==0.1.8) (0.14.0)\n",
      "Requirement already satisfied: wget==3.2 in /opt/conda/lib/python3.11/site-packages (3.2)\n",
      "Requirement already satisfied: certifi>=2017.4.17 in /opt/conda/lib/python3.11/site-packages (from requests->huggingface-hub>=0.15.1->sentence-transformers==3.0.1) (2024.8.30)\n",
      "Requirement already satisfied: pyasn1<0.7.0,>=0.4.6 in /opt/conda/lib/python3.11/site-packages (from pyasn1-modules>=0.2.1->google-auth>=1.0.1->kubernetes>=28.1.0->chromadb==0.5.3) (0.6.1)\n",
      "Successfully installed pydantic-2.8.0 pydantic-core-2.20.0\n",
      "Requirement already satisfied: greenlet!=0.4.17 in /opt/conda/lib/python3.11/site-packages (from sqlalchemy==2.0.30) (3.0.3)\n"
     ]
    }
   ],
   "source": [
    "#%%capture\n",
    "!pip install --user langchain==0.2.6 | tail -n 100\n",
    "!pip install --user langchain-community==0.2.6 | tail -n 1\n",
    "!pip install --user ibm-watsonx-ai==1.0.10 | tail -n 1\n",
    "!pip install --user langchain_ibm==0.1.8 | tail -n 1\n",
    "!pip install --user wget==3.2 | tail -n 1\n",
    "!pip install --user sentence-transformers==3.0.1 | tail -n 1\n",
    "!pip install --user chromadb==0.5.3 | tail -n 1\n",
    "!pip install --user pydantic==2.8.0 | tail -n 1\n",
    "!pip install --user sqlalchemy==2.0.30 | tail -n 1"
   ]
  },
  {
   "cell_type": "markdown",
   "metadata": {},
   "source": [
    "## <a id='toc1_6_'></a>[Watsonx API credentials and project_id](#toc0_)\n",
    "\n",
    "This section provides you with the necessary credentials to access the watsonx API.\n"
   ]
  },
  {
   "cell_type": "code",
   "execution_count": 5,
   "metadata": {},
   "outputs": [],
   "source": [
    "from ibm_watsonx_ai import APIClient\n",
    "from ibm_watsonx_ai import Credentials\n",
    "import os\n",
    "\n",
    "\n",
    "credentials = Credentials(\n",
    "                   url = \"https://us-south.ml.cloud.ibm.com\",\n",
    "                  )\n",
    "\n",
    "client = APIClient(credentials)\n",
    "\n",
    "project_id  = \"skills-network\""
   ]
  },
  {
   "cell_type": "markdown",
   "metadata": {},
   "source": [
    "## <a id='toc1_7_'></a>[Load document data and build knowledge base](#toc0_)\n",
    "\n",
    "In this section, you load the document data and build the knowledge base that is used to answer questions.\n",
    "\n",
    "The most important part of the knowledge base is the document data. Retrieval models are used to retrieve relevant information from the document data. The document data can be stored in a variety of formats, such as text files, PDFs, or databases.\n",
    "\n",
    "RAG creates dense embeddings for the document data and stores them in a database. \n",
    "\n",
    "In this project, you use a file and split it into chunks, then embed each chunk using an embedding model, and store the embeddings in a database.\n",
    "\n",
    "**CharacterTextSplitter**\n",
    "\n",
    "The CharacterTextSplitter is a utility that is used to split documents into smaller chunks based on a specified strategy. In this case, it splits the document into chunks of a defined size without overlapping content between chunks.\n",
    "\n",
    "- **Chunk size**: The chunk_size parameter specifies the maximum number of characters in each chunk. \n",
    "- **Chunk overlap**: The chunk_overlap parameter determines the number of characters that should overlap between consecutive chunks.\n"
   ]
  },
  {
   "cell_type": "code",
   "execution_count": 6,
   "metadata": {},
   "outputs": [
    {
     "ename": "ModuleNotFoundError",
     "evalue": "No module named 'langchain'",
     "output_type": "error",
     "traceback": [
      "\u001b[0;31m---------------------------------------------------------------------------\u001b[0m",
      "\u001b[0;31mModuleNotFoundError\u001b[0m                       Traceback (most recent call last)",
      "Cell \u001b[0;32mIn[6], line 2\u001b[0m\n\u001b[1;32m      1\u001b[0m \u001b[38;5;28;01mimport\u001b[39;00m \u001b[38;5;21;01mrequests\u001b[39;00m\n\u001b[0;32m----> 2\u001b[0m \u001b[38;5;28;01mfrom\u001b[39;00m \u001b[38;5;21;01mlangchain\u001b[39;00m\u001b[38;5;21;01m.\u001b[39;00m\u001b[38;5;21;01mdocument_loaders\u001b[39;00m \u001b[38;5;28;01mimport\u001b[39;00m TextLoader\n\u001b[1;32m      3\u001b[0m \u001b[38;5;28;01mfrom\u001b[39;00m \u001b[38;5;21;01mlangchain\u001b[39;00m\u001b[38;5;21;01m.\u001b[39;00m\u001b[38;5;21;01mtext_splitter\u001b[39;00m \u001b[38;5;28;01mimport\u001b[39;00m CharacterTextSplitter\n\u001b[1;32m      5\u001b[0m \u001b[38;5;66;03m# Define filename and URL\u001b[39;00m\n",
      "\u001b[0;31mModuleNotFoundError\u001b[0m: No module named 'langchain'"
     ]
    }
   ],
   "source": [
    "import requests\n",
    "from langchain.document_loaders import TextLoader\n",
    "from langchain.text_splitter import CharacterTextSplitter\n",
    "\n",
    "# Define filename and URL\n",
    "filename = 'state_of_the_union.txt'\n",
    "url = 'https://cf-courses-data.s3.us.cloud-object-storage.appdomain.cloud/zNYlnZMW6K-9GP72DDizOQ/state-of-the-union.txt'\n",
    "\n",
    "# Download the file if it does not exist\n",
    "if not os.path.isfile(filename):\n",
    "    response = requests.get(url)\n",
    "    with open(filename, 'wb') as f:\n",
    "        f.write(response.content)\n",
    "\n",
    "# Load the document\n",
    "loader = TextLoader(filename)\n",
    "documents = loader.load()\n",
    "\n",
    "# Split the document into chunks using CharacterTextSplitter\n",
    "text_splitter = CharacterTextSplitter(chunk_size=1000, chunk_overlap=0)\n",
    "texts = text_splitter.split_documents(documents)\n",
    "\n",
    "print(f\"Number of chunks: {len(texts)}\")"
   ]
  },
  {
   "cell_type": "markdown",
   "metadata": {},
   "source": [
    "## <a id='toc1_8_'></a>[Create an embedding model](#toc0_)\n",
    "\n",
    "This section creates an embedding model. You use the `ibm-watsonx-ai` library to access the **WatsonX Granite language model.** \n"
   ]
  },
  {
   "cell_type": "code",
   "execution_count": null,
   "metadata": {},
   "outputs": [],
   "source": [
    "from ibm_watsonx_ai.foundation_models.utils import get_embedding_model_specs\n",
    "from langchain_ibm import WatsonxEmbeddings\n",
    "from ibm_watsonx_ai.foundation_models.utils.enums import EmbeddingTypes\n",
    "from langchain.vectorstores import Chroma\n",
    "\n",
    "get_embedding_model_specs(credentials.get('url'))\n",
    "\n",
    "# Part 1: Create Embedding Model\n",
    "# Set up the WatsonxEmbeddings object\n",
    "embeddings = WatsonxEmbeddings(\n",
    "    model_id=EmbeddingTypes.IBM_SLATE_30M_ENG.value,\n",
    "    url=credentials[\"url\"],\n",
    "    project_id=project_id\n",
    "    )\n",
    "\n",
    "# Part 2: Embed Documents and Store\n",
    "docsearch = Chroma.from_documents(texts, embeddings)\n",
    "\n",
    "# Let us print several embedding vectors.\n",
    "# Generate and print embedding vectors for a sample of the documents\n",
    "sample_texts = texts[:3]  # Taking a sample of 3 documents for demonstration\n",
    "sample_embeddings = embeddings.embed_documents([doc.page_content for doc in sample_texts])\n",
    "\n",
    "print(\"Sample Embedding Vectors:\")\n",
    "for i, embedding in enumerate(sample_embeddings):\n",
    "    print(f\"Document {i + 1} Embedding Vector: Length: {len(embedding)}; {embedding}\")"
   ]
  },
  {
   "cell_type": "markdown",
   "metadata": {},
   "source": [
    "## <a id='toc1_9_'></a>[Watsonx.ai Embedding with LangChain](#toc0_)\n",
    "\n",
    "You can use the help function to get detailed information about the **WatsonxEmbeddings** class, including its methods, attributes, and usage. This is useful for understanding how to properly utilize the class in your project.\n"
   ]
  },
  {
   "cell_type": "code",
   "execution_count": null,
   "metadata": {},
   "outputs": [],
   "source": [
    "help(WatsonxEmbeddings)"
   ]
  },
  {
   "cell_type": "markdown",
   "metadata": {},
   "source": [
    "## <a id='toc1_10_'></a>[Foundation models on watsonx.ai](#toc0_)\n",
    "\n",
    "IBM WatsonX provides various foundation models that can be used for different tasks. \n",
    "\n",
    "This section shows how to use the [Granite model](https://www.ibm.com/new/ibm-granite-3-0-open-state-of-the-art-enterprise-models?utm_source=skills_network&utm_content=in_lab_content_link&utm_id=Lab-Build+a+grounded+Q%2FA+Agent+with+LangChain%2C+Granite+and+RAG-v1_1729612730) using [LangChain](https://python.langchain.com/v0.2/docs/introduction/).\n",
    "\n",
    "### <a id='toc1_10_1_'></a>[Define the model](#toc0_)\n",
    "\n",
    "In this project, you use `ibm/granite-3-8b-instruct`.\n",
    "\n",
    "The [Granite Gen-3 8 Billion instruct model (granite-3-8b-instruct)](https://www.ibm.com/new/ibm-granite-3-0-open-state-of-the-art-enterprise-models?utm_source=skills_network&utm_content=in_lab_content_link&utm_id=Lab-Build+a+grounded+Q%2FA+Agent+with+LangChain%2C+Granite+and+RAG-v1_1729612730) is a new, instruction-tuned, dense decoder-only LLM. Trained using a novel two-phase method on over 12 trillion tokens of carefully vetted data across 12 different natural languages and 116 different programming languages, the developer-friendly Granite 3.0 8B Instruct is a workhorse enterprise model intended to serve as a primary building block for sophisticated workflows and tool-based use cases. Granite 3.0 8B Instruct matches leading similarly-sized open models on academic benchmarks while outperforming those peers on benchmarks for enterprise tasks and safety.\n",
    "\n",
    " Previous generations of Granite models prioritized specialized use cases, excelling at domain-specific tasks across a diverse array of industries including finance, legal, code and academia. In addition to offering even greater efficacy in those arenas, IBM Granite 3.0 models match—and, in some cases, exceed—the general performance of leading open weight LLMs across both academic and enterprise benchmarks.\n"
   ]
  },
  {
   "cell_type": "markdown",
   "metadata": {},
   "source": [
    "### <a id='toc1_10_2_'></a>[Define the model parameters](#toc0_)\n"
   ]
  },
  {
   "cell_type": "code",
   "execution_count": null,
   "metadata": {},
   "outputs": [],
   "source": [
    "from ibm_watsonx_ai.metanames import GenTextParamsMetaNames as GenParams\n",
    "from ibm_watsonx_ai.foundation_models.utils.enums import DecodingMethods\n",
    "\n",
    "parameters = {\n",
    "    GenParams.DECODING_METHOD: DecodingMethods.GREEDY,\n",
    "    GenParams.MIN_NEW_TOKENS: 1,\n",
    "    GenParams.MAX_NEW_TOKENS: 100,\n",
    "    GenParams.STOP_SEQUENCES: [\"\\n\"],\n",
    "}"
   ]
  },
  {
   "cell_type": "markdown",
   "metadata": {},
   "source": [
    "### <a id='toc1_10_3_'></a>[LangChain CustomLLM wrapper for WatsonX model](#toc0_)\n",
    "\n",
    "This section initializes the `WatsonxLLM` from `LangChain` with the model ID and model parameters.\n"
   ]
  },
  {
   "cell_type": "code",
   "execution_count": null,
   "metadata": {},
   "outputs": [],
   "source": [
    "from langchain_ibm import WatsonxLLM\n",
    "\n",
    "\n",
    "# Create a dictionary to store credential information\n",
    "credentials = {\n",
    "    \"url\"    : \"https://us-south.ml.cloud.ibm.com\"\n",
    "}\n",
    "\n",
    "# Indicate the model we would like to initialize. In this case, ibm/granite-3-8b-instruct.\n",
    "model_id    = 'ibm/granite-3-8b-instruct'\n",
    "\n",
    "# Initialize some watsonx.ai model parameters\n",
    "params = {\n",
    "        \"decoding_method\": \"greedy\",\n",
    "        \"temperature\": 0.4, \n",
    "        \"min_new_tokens\": 1,\n",
    "        \"max_new_tokens\": 100,\n",
    "        #\"stop_sequences\":[\"\\n\"]\n",
    "    }\n",
    "project_id  = \"skills-network\" # <--- NOTE: specify \"skills-network\" as your project_id\n",
    "# space_id    = None\n",
    "# verify      = False\n",
    "\n",
    "watsonx_granite = WatsonxLLM(\n",
    "    model_id=model_id, \n",
    "    url=credentials[\"url\"], \n",
    "    params=params, \n",
    "    project_id=project_id, \n",
    ")\n"
   ]
  },
  {
   "cell_type": "markdown",
   "metadata": {},
   "source": [
    "### <a id='toc1_10_4_'></a>[Generate a retrieval augmented response to a question](#toc0_)\n",
    "\n",
    "This section builds the question answering chain to automate the RAG pipeline.\n"
   ]
  },
  {
   "cell_type": "code",
   "execution_count": null,
   "metadata": {},
   "outputs": [],
   "source": [
    "from langchain.chains import RetrievalQA\n",
    "\n",
    "qa = RetrievalQA.from_chain_type(llm=watsonx_granite, chain_type=\"stuff\", retriever=docsearch.as_retriever())"
   ]
  },
  {
   "cell_type": "markdown",
   "metadata": {},
   "source": [
    "### <a id='toc1_10_5_'></a>[Question-answering agent](#toc0_)\n",
    "\n",
    "This section answers the questions by using the RAG pipeline.\n"
   ]
  },
  {
   "cell_type": "code",
   "execution_count": null,
   "metadata": {},
   "outputs": [],
   "source": [
    "query = \"What did the president say about highway and bridges in disrepair\"\n",
    "qa.invoke(query)\n",
    "\n",
    "# in text, it is mentioned: this year we will start fixing over 65,000 miles of highway and 1,500 bridges in disrepair. "
   ]
  },
  {
   "cell_type": "markdown",
   "metadata": {},
   "source": [
    "## <a id='toc1_11_'></a>[Exercises](#toc0_)\n",
    "\n",
    "### <a id='toc1_11_1_'></a>[Exercise 1 - Change the query](#toc0_)\n",
    "\n",
    "Please check the answer to the following question: \"What did the president say about the infrastructure rank in the world?\"\n"
   ]
  },
  {
   "cell_type": "code",
   "execution_count": null,
   "metadata": {},
   "outputs": [],
   "source": [
    "query = \"What did the president say about the infrastructure rank in the world?\"\n",
    "qa.invoke(query) "
   ]
  },
  {
   "cell_type": "markdown",
   "metadata": {},
   "source": [
    "<details>\n",
    "    <summary>Click here for solution</summary>\n",
    "\n",
    "```python\n",
    "query = \"What did the president say about the infrastructure rank in the world?\"\n",
    "qa.invoke(query)\n",
    "\n",
    "# in text, it is mentioned: Now our infrastructure is ranked 13th in the world. \n",
    "```\n",
    "```\n",
    "{'query': 'What did the president say about the infrastructure rank in the world?',\n",
    "\n",
    "'result': ' The president mentioned that America used to have the best roads, bridges, and airports on Earth, but now our infrastructure is ranked 13th in the world.'}\n",
    "```\n",
    "\n",
    "</details>\n"
   ]
  },
  {
   "cell_type": "markdown",
   "metadata": {},
   "source": [
    "### <a id='toc1_11_2_'></a>[Exercise 2 - Change the query](#toc0_)\n",
    "\n",
    "Please check the answer to the following question: \"What did the president say about a unity agenda for the nation? What is the first thing we can do together?\"\n"
   ]
  },
  {
   "cell_type": "code",
   "execution_count": null,
   "metadata": {},
   "outputs": [],
   "source": [
    "## your solution here\n",
    "query = \"What did the president say about a unity agenda for the nation? what is the first thing we can do together?\"\n",
    "qa.invoke(query)\n"
   ]
  },
  {
   "cell_type": "markdown",
   "metadata": {},
   "source": [
    "<details>\n",
    "    <summary>Click here for solution</summary>\n",
    "\n",
    "```python\n",
    "query = query = \"What did the president say about a Unity Agenda for the Nation? What is the first thing we can do together?\"\n",
    "qa.invoke(query)\n",
    "\n",
    "# in text, it is mentioned: So tonight I'm offering a Unity Agenda for the Nation. Four big things we can do together. First, beat the opioid epidemic. \n",
    "```\n",
    "```\n",
    "{'query': 'What did the president say about a Unity Agenda for the Nation? What is the first thing we can do together?',\n",
    " 'result': ' The president mentioned a Unity Agenda for the Nation, in which he proposed four big things that the country can do together. The first thing on this list is beating the opioid epidemic.\\n'}\n",
    "```\n",
    "\n",
    "</details>\n"
   ]
  },
  {
   "cell_type": "markdown",
   "metadata": {},
   "source": [
    "## <a id='toc1_12_'></a>[Authors](#toc0_)\n",
    "\n",
    "\n",
    "[Ricky Shi](https://www.linkedin.com/in/ricky-shi-ca/)\n"
   ]
  },
  {
   "cell_type": "markdown",
   "metadata": {},
   "source": [
    "## <a id='toc1_13_'></a>[Contributors](#toc0_)\n",
    "\n",
    "[Faranak Heidari](https://www.linkedin.com/in/faranakhdr)\n",
    "\n",
    "[Kang Wang](https://author.skills.network/instructors/kang_wang)\n",
    "\n",
    "[Lucy Xu](https://author.skills.network/instructors/lucy_xu)\n"
   ]
  },
  {
   "cell_type": "markdown",
   "metadata": {},
   "source": [
    "## <a id='toc1_14_'></a>[Change Log](#toc0_)\n",
    "\n",
    "|Date (YYYY-MM-DD)|Version|Changed By|Change Description|\n",
    "|-|-|-|-|\n",
    "|2024-07-03|0.1|Ricky Shi|Create project|\n",
    "|2024-10-22|0.2|Faranak Heidari|Update with Gen3 Granite|\n"
   ]
  },
  {
   "cell_type": "markdown",
   "metadata": {},
   "source": [
    "Copyright © 2024 IBM Corporation. All rights reserved.\n"
   ]
  }
 ],
 "metadata": {
  "kernelspec": {
   "display_name": "Python 3 (ipykernel)",
   "language": "python",
   "name": "python3"
  },
  "language_info": {
   "codemirror_mode": {
    "name": "ipython",
    "version": 3
   },
   "file_extension": ".py",
   "mimetype": "text/x-python",
   "name": "python",
   "nbconvert_exporter": "python",
   "pygments_lexer": "ipython3",
   "version": "3.11.9"
  },
  "prev_pub_hash": "d9abd325dc368349c5e1e9a98a0f68f757ea980878c176d1dcaf119cb2aceb6c"
 },
 "nbformat": 4,
 "nbformat_minor": 4
}
